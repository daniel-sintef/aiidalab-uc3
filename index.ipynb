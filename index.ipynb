{
 "cells": [
  {
   "cell_type": "code",
   "execution_count": null,
   "metadata": {},
   "outputs": [],
   "source": [
    "from start import get_start_widget\n",
    "import ipywidgets as ipw\n",
    "\n",
    "html_text = \"\"\"\n",
    "<head>\n",
    "</head>\n",
    "\n",
    "<body>\n",
    "\n",
    "<div style=\"padding-top: 0px; padding-bottom: 0px; line-height: 140%;\">\n",
    "  <h3>Welcome to the MarketPlace UC3 app! 👋</h3>\n",
    "\n",
    "  The Use Case 3 (UC3) of MarketPlace\n",
    "  \n",
    "  <p style=\"padding-top: 5px; padding-bottom: 5px;\">New users show go prepare tool first to setup computer and code.</p>\n",
    "  <p style=\"padding-top: 5px; padding-bottom: 5px;\"><em>Happy computing! 🎉</em></p>\n",
    "</div>\n",
    "\n",
    "</body>\n",
    "\"\"\"\n",
    "\n",
    "welcome_text = ipw.HTML(html_text)\n",
    "display(welcome_text)\n",
    "\n",
    "start_widget = get_start_widget(\".\", \"\", \"\")\n",
    "display(start_widget)"
   ]
  }
 ],
 "metadata": {
  "language_info": {
   "name": "python"
  },
  "orig_nbformat": 4
 },
 "nbformat": 4,
 "nbformat_minor": 2
}
