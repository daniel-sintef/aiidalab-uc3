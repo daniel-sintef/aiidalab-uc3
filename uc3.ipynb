{
 "cells": [
  {
   "cell_type": "code",
   "execution_count": 1,
   "metadata": {},
   "outputs": [],
   "source": [
    "##############################################################################\n",
    "#The app works around 4 major steps\n",
    "#    (1) Configure the user input\n",
    "#    (2) Confirm the user input + submit the job\n",
    "#    (3) Monitor the process during the run\n",
    "#    (4) Display the final results\n",
    "#\n",
    "#These steps are linked via the following \n",
    "#    (1) --> (2): user_inputs, a dictionary of all the user inputs\n",
    "#    (1) --> (2): mpuc3_code, a code for marketplace usercase 3\n",
    "#    (2) --> (3): process, the process (MPusercase3 CalcJob) submitted to AiiDA \n",
    "#    (3) --> (4): output, the ArrayData output from the CalcJob\n",
    "#\n",
    "#This is an early prototype that is 'stapled' from the pizza example in aiidalab_widgets_base\n",
    "#as well as QE example from aiidalab_qe\n",
    "#\n",
    "#Specific notes/issues on the steps:\n",
    "#    Step 1:\n",
    "#        * Perhaps there should be a step 0 that allows the user to choose a model,\n",
    "#          then the widget can be dynamically updated\n",
    "#        * The code setup is rather ugly, and creating a custom code crashes\n",
    "#        * The user should be alerted that if they try to hit submit without \n",
    "#          choosing a code, that they need to choose a code first\n",
    "#    Step 2:\n",
    "#    Step 3:\n",
    "#        * This is taken almost directly from QE, and is the part I understand the least\n",
    "#        * Clicking on most outputs causes a crash\n",
    "#        *** I can't seem to set the 'output' propery correctly\n",
    "#    Step 4:\n",
    "#        *** Because I can't set the output property in step3 correctly, this step displays nothing\n",
    "#        * The current display is very ugly and taken directly from Step2, and probably be changed to\n",
    "#         something nicer\n",
    "##############################################################################"
   ]
  },
  {
   "cell_type": "code",
   "execution_count": 2,
   "metadata": {},
   "outputs": [],
   "source": [
    "import logging\n",
    "\n",
    "from uc3.logger import OutputWidgetHandler\n",
    "\n",
    "logger = logging.getLogger(\"aiidalab_mp_uc3\")\n",
    "handler = OutputWidgetHandler()\n",
    "handler.setFormatter(logging.Formatter('%(asctime)s  - [%(levelname)s] %(message)s'))\n",
    "logger.addHandler(handler)\n",
    "logger.setLevel(logging.INFO)\n",
    "\n",
    "# Remove/Add comment of the next line to show/hide logs.\n",
    "# handler.show_logs()\n",
    "\n",
    "handler.clear_logs()\n",
    "logger.info('Starting program')"
   ]
  },
  {
   "cell_type": "code",
   "execution_count": 3,
   "metadata": {},
   "outputs": [
    {
     "data": {
      "application/vnd.jupyter.widget-view+json": {
       "model_id": "b144620152724fc2bf1aef2015b3d85c",
       "version_major": 2,
       "version_minor": 0
      },
      "text/plain": []
     },
     "metadata": {},
     "output_type": "display_data"
    }
   ],
   "source": [
    "import ipywidgets as ipw\n",
    "\n",
    "from aiidalab_widgets_base import WizardAppWidget\n",
    "\n",
    "from uc3.steps import (\n",
    "    ComputerCodeSetupStep,\n",
    "    ConfigureUserInputStep,\n",
    "    ConfirmUserInputStep,\n",
    "    MonitorProcessStep,\n",
    "    DisplayFinalOutput,\n",
    ")\n",
    "\n",
    "computer_code_setup_step = ComputerCodeSetupStep(auto_advance=True)\n",
    "configure_userinput_step = ConfigureUserInputStep(auto_advance=True)\n",
    "confirm_userinput_step = ConfirmUserInputStep(auto_advance=True)\n",
    "monitorprocess_step = MonitorProcessStep(auto_advance=True)\n",
    "displayfinaloutput_step = DisplayFinalOutput(auto_advance=False)\n",
    "\n",
    "ipw.dlink(\n",
    "    (configure_userinput_step, \"user_inputs\"),\n",
    "    (confirm_userinput_step, \"user_inputs\"),\n",
    ")\n",
    "ipw.dlink(\n",
    "    (computer_code_setup_step, \"mpuc3_code\"),\n",
    "    (confirm_userinput_step, \"mpuc3_code\"),\n",
    ")\n",
    "ipw.dlink(\n",
    "    (confirm_userinput_step, \"process\"),\n",
    "    (monitorprocess_step, \"process\"),\n",
    "    transform=lambda x: x.uuid if x is not None else None\n",
    ")\n",
    "ipw.dlink(\n",
    "    (monitorprocess_step, \"output\"),\n",
    "    (displayfinaloutput_step, \"output\"),\n",
    ")\n",
    "\n",
    "# Setup the app by adding the various steps in order.\n",
    "WizardAppWidget(\n",
    "    steps=[\n",
    "        (\"Setup Computer & Code\", computer_code_setup_step),\n",
    "        (\"Configure User Input\", configure_userinput_step),\n",
    "        (\"Confirm User Input\", confirm_userinput_step),\n",
    "        (\"Monitor Process\", monitorprocess_step),\n",
    "        (\"Display Results\", displayfinaloutput_step),\n",
    "    ]\n",
    ")"
   ]
  },
  {
   "cell_type": "code",
   "execution_count": 1,
   "metadata": {},
   "outputs": [],
   "source": [
    "#display(monitorprocess_step)\n",
    "#monitorprocess_step.process = \"8cc8cbe9-81ab-4821-8dad-b25e73de9327\"\n",
    "#monitorprocess_step.output\n",
    "#monitorprocess_step.state\n",
    "#monitorprocess_step.state\n",
    "#display(widget)"
   ]
  },
  {
   "cell_type": "code",
   "execution_count": null,
   "metadata": {},
   "outputs": [],
   "source": []
  }
 ],
 "metadata": {
  "kernelspec": {
   "display_name": "Python 3 (ipykernel)",
   "language": "python",
   "name": "python3"
  },
  "language_info": {
   "codemirror_mode": {
    "name": "ipython",
    "version": 3
   },
   "file_extension": ".py",
   "mimetype": "text/x-python",
   "name": "python",
   "nbconvert_exporter": "python",
   "pygments_lexer": "ipython3",
   "version": "3.9.13"
  },
  "vscode": {
   "interpreter": {
    "hash": "d4d1e4263499bec80672ea0156c357c1ee493ec2b1c70f0acce89fc37c4a6abe"
   }
  }
 },
 "nbformat": 4,
 "nbformat_minor": 4
}
