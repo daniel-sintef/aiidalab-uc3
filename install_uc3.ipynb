{
 "cells": [
  {
   "cell_type": "code",
   "execution_count": null,
   "metadata": {},
   "outputs": [],
   "source": [
    "# %load_ext aiida\n",
    "%aiida"
   ]
  },
  {
   "cell_type": "code",
   "execution_count": null,
   "metadata": {},
   "outputs": [],
   "source": [
    "import logging\n",
    "\n",
    "from uc3.logger import OutputWidgetHandler\n",
    "\n",
    "logger = logging.getLogger(\"aiidalab_mp_uc3\")\n",
    "handler = OutputWidgetHandler()\n",
    "handler.setFormatter(logging.Formatter('%(asctime)s  - [%(levelname)s] %(message)s'))\n",
    "logger.addHandler(handler)\n",
    "logger.setLevel(logging.INFO)\n",
    "\n",
    "# Remove/Add comment of the next line to show/hide logs.\n",
    "handler.show_logs()\n",
    "\n",
    "handler.clear_logs()\n",
    "logger.info('Starting program')"
   ]
  },
  {
   "cell_type": "code",
   "execution_count": null,
   "metadata": {},
   "outputs": [],
   "source": [
    "import ipywidgets as ipw\n",
    "\n",
    "from aiidalab_widgets_base import WizardAppWidget\n",
    "\n",
    "from uc3.steps import (\n",
    "    UploadSshKey,\n",
    "    InstallComputerAndCode,\n",
    "    ExitMessage,\n",
    ")\n",
    "\n",
    "upload_ssh_key_step = UploadSshKey(auto_advance=True)\n",
    "install_computerandcode_step = InstallComputerAndCode(auto_advance=True)\n",
    "exit_message_step = ExitMessage()\n",
    "\n",
    "\n",
    "# Setup the app by adding the various steps in order.\n",
    "WizardAppWidget(\n",
    "    steps=[\n",
    "        (\"Upload SSH Key\", upload_ssh_key_step),\n",
    "        (\"Install Code and Computer\", install_computerandcode_step),\n",
    "        (\"Done\", exit_message_step),\n",
    "    ]\n",
    ")"
   ]
  }
 ],
 "metadata": {
  "kernelspec": {
   "display_name": "Python 3.9.13 ('mp_uc3')",
   "language": "python",
   "name": "python3"
  },
  "language_info": {
   "codemirror_mode": {
    "name": "ipython",
    "version": 3
   },
   "file_extension": ".py",
   "mimetype": "text/x-python",
   "name": "python",
   "nbconvert_exporter": "python",
   "pygments_lexer": "ipython3",
   "version": "3.9.13"
  },
  "vscode": {
   "interpreter": {
    "hash": "08233349140660ea3c15ff20c2b84be67e5f5b3671893d497f4555999e59dd1f"
   }
  }
 },
 "nbformat": 4,
 "nbformat_minor": 4
}
