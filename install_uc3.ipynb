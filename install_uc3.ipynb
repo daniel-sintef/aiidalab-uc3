{
 "cells": [
  {
   "cell_type": "code",
   "execution_count": 1,
   "metadata": {},
   "outputs": [
    {
     "data": {
      "application/json": {
       "current_state": "Loaded AiiDA DB environment - profile name: default."
      },
      "text/html": [
       "<p>Loaded AiiDA DB environment - profile name: default.</p>"
      ],
      "text/latex": [
       "Loaded AiiDA DB environment - profile name: default.\n"
      ],
      "text/plain": [
       "Loaded AiiDA DB environment - profile name: default.\n"
      ]
     },
     "execution_count": 1,
     "metadata": {},
     "output_type": "execute_result"
    }
   ],
   "source": [
    "# %load_ext aiida\n",
    "%aiida"
   ]
  },
  {
   "cell_type": "code",
   "execution_count": 2,
   "metadata": {},
   "outputs": [
    {
     "data": {
      "application/vnd.jupyter.widget-view+json": {
       "model_id": "bb644e83e55a4bd4a3c406bbb5271ce4",
       "version_major": 2,
       "version_minor": 0
      },
      "text/plain": [
       "Output(layout=Layout(border='1px solid black'))"
      ]
     },
     "metadata": {},
     "output_type": "display_data"
    }
   ],
   "source": [
    "import logging\n",
    "\n",
    "from uc3.logger import OutputWidgetHandler\n",
    "\n",
    "logger = logging.getLogger(\"aiidalab_mp_uc3\")\n",
    "handler = OutputWidgetHandler()\n",
    "handler.setFormatter(logging.Formatter('%(asctime)s  - [%(levelname)s] %(message)s'))\n",
    "logger.addHandler(handler)\n",
    "logger.setLevel(logging.INFO)\n",
    "\n",
    "# Remove/Add comment of the next line to show/hide logs.\n",
    "handler.show_logs()\n",
    "\n",
    "handler.clear_logs()\n",
    "logger.info('Starting program')"
   ]
  },
  {
   "cell_type": "code",
   "execution_count": 3,
   "metadata": {},
   "outputs": [
    {
     "data": {
      "application/vnd.jupyter.widget-view+json": {
       "model_id": "e442740d439d43f7ba8773fd374daedc",
       "version_major": 2,
       "version_minor": 0
      },
      "text/plain": []
     },
     "metadata": {},
     "output_type": "display_data"
    },
    {
     "data": {
      "application/vnd.jupyter.widget-view+json": {
       "model_id": "c3e1ce5b183e42af83607c636c169af2",
       "version_major": 2,
       "version_minor": 0
      },
      "text/plain": [
       "WizardAppWidget(children=(HBox(children=(Button(description='Previous step', disabled=True, icon='step-backwar…"
      ]
     },
     "metadata": {},
     "output_type": "display_data"
    }
   ],
   "source": [
    "import ipywidgets as ipw\n",
    "\n",
    "from aiidalab_widgets_base import WizardAppWidget\n",
    "\n",
    "from uc3.steps import (\n",
    "    UploadSshKey,\n",
    "    InstallComputerAndCode,\n",
    "    ExitMessage,\n",
    ")\n",
    "\n",
    "upload_ssh_key_step = UploadSshKey(auto_advance=True)\n",
    "install_computerandcode_step = InstallComputerAndCode(auto_advance=True)\n",
    "exit_message_step = ExitMessage()\n",
    "\n",
    "\n",
    "# Setup the app by adding the various steps in order.\n",
    "WizardAppWidget(\n",
    "    steps=[\n",
    "        (\"Upload SSH Key\", upload_ssh_key_step),\n",
    "        (\"Install Code and Computer\", install_computerandcode_step),\n",
    "        (\"Done\", exit_message_step),\n",
    "    ]\n",
    ")"
   ]
  },
  {
   "cell_type": "code",
   "execution_count": null,
   "metadata": {},
   "outputs": [],
   "source": []
  }
 ],
 "metadata": {
  "interpreter": {
   "hash": "465a50da2cda299664fe2b221645a697395b44f9d0817884136da23e7dbcd669"
  },
  "kernelspec": {
   "display_name": "Python 3 (ipykernel)",
   "language": "python",
   "name": "python3"
  },
  "language_info": {
   "codemirror_mode": {
    "name": "ipython",
    "version": 3
   },
   "file_extension": ".py",
   "mimetype": "text/x-python",
   "name": "python",
   "nbconvert_exporter": "python",
   "pygments_lexer": "ipython3",
   "version": "3.7.9"
  }
 },
 "nbformat": 4,
 "nbformat_minor": 4
}
